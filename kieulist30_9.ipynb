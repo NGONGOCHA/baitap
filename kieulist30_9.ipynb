{
  "nbformat": 4,
  "nbformat_minor": 0,
  "metadata": {
    "colab": {
      "name": "kieulist30/9.ipynb",
      "provenance": [],
      "authorship_tag": "ABX9TyOHIYy8KCqZqqb6zqG2Ik27",
      "include_colab_link": true
    },
    "kernelspec": {
      "name": "python3",
      "display_name": "Python 3"
    },
    "language_info": {
      "name": "python"
    }
  },
  "cells": [
    {
      "cell_type": "markdown",
      "metadata": {
        "id": "view-in-github",
        "colab_type": "text"
      },
      "source": [
        "<a href=\"https://colab.research.google.com/github/NGONGOCHA/baitap/blob/main/kieulist30_9.ipynb\" target=\"_parent\"><img src=\"https://colab.research.google.com/assets/colab-badge.svg\" alt=\"Open In Colab\"/></a>"
      ]
    },
    {
      "cell_type": "markdown",
      "metadata": {
        "id": "Ca3FrzZf-RGw"
      },
      "source": [
        "Câu 1:Write a Python program to sum all the items in a list. (sum() function)"
      ]
    },
    {
      "cell_type": "code",
      "metadata": {
        "colab": {
          "base_uri": "https://localhost:8080/"
        },
        "id": "RdjfzNtj-YOs",
        "outputId": "0b483109-24ce-4267-a798-eadafbf286e7"
      },
      "source": [
        "list = (6, -2, 3)\n",
        "print(\"tổng bằng\",sum(list))"
      ],
      "execution_count": 2,
      "outputs": [
        {
          "output_type": "stream",
          "name": "stdout",
          "text": [
            "tổng bằng 7\n"
          ]
        }
      ]
    },
    {
      "cell_type": "markdown",
      "metadata": {
        "id": "9LOwxWdY-ncl"
      },
      "source": [
        "Câu 2: Write a Python program to multiply all the items in a list. (math.prod() function)"
      ]
    },
    {
      "cell_type": "code",
      "metadata": {
        "id": "27DoAkbP_Glf"
      },
      "source": [
        "import math\n",
        "list = (2, 3, 7)\n",
        "print(math.prod(list))"
      ],
      "execution_count": null,
      "outputs": []
    },
    {
      "cell_type": "markdown",
      "metadata": {
        "id": "kb5P8mot_TU7"
      },
      "source": [
        "Câu 3: Write a Python program to get the largest number from a list. (max() function)"
      ]
    },
    {
      "cell_type": "code",
      "metadata": {
        "colab": {
          "base_uri": "https://localhost:8080/"
        },
        "id": "2t3qQoZT_ZtH",
        "outputId": "97266ed8-17cd-41b7-8b4d-79964c131e93"
      },
      "source": [
        "list = (-10, 6, 12)\n",
        "print(max(list))"
      ],
      "execution_count": 7,
      "outputs": [
        {
          "output_type": "stream",
          "name": "stdout",
          "text": [
            "12\n"
          ]
        }
      ]
    },
    {
      "cell_type": "markdown",
      "metadata": {
        "id": "ngkU2I54_jJI"
      },
      "source": [
        "Câu 4: Write a Python program to get the smallest number from a list. (min() function)"
      ]
    },
    {
      "cell_type": "code",
      "metadata": {
        "colab": {
          "base_uri": "https://localhost:8080/"
        },
        "id": "JONozuoX_mV8",
        "outputId": "cf91ff01-7e66-4cee-c6d7-8f82028bf6ef"
      },
      "source": [
        "list = (-10, 6, 12)\n",
        "print(min(list))"
      ],
      "execution_count": 6,
      "outputs": [
        {
          "output_type": "stream",
          "name": "stdout",
          "text": [
            "-10\n"
          ]
        }
      ]
    },
    {
      "cell_type": "markdown",
      "metadata": {
        "id": "MKNaM5w2_2QG"
      },
      "source": [
        "Câu 5: Write a Python program to sort a list in descending order (sort() function)"
      ]
    },
    {
      "cell_type": "code",
      "metadata": {
        "colab": {
          "base_uri": "https://localhost:8080/"
        },
        "id": "boKNaPpG_6KO",
        "outputId": "36a8d913-d1c1-4bf2-cc45-5360c6806175"
      },
      "source": [
        "list = [2, 8, 4, 0, 5]\n",
        "list.sort(reverse = True)\n",
        "print(list)"
      ],
      "execution_count": 20,
      "outputs": [
        {
          "output_type": "stream",
          "name": "stdout",
          "text": [
            "[8, 5, 4, 2, 0]\n"
          ]
        }
      ]
    },
    {
      "cell_type": "markdown",
      "metadata": {
        "id": "QG45OwLpAv6P"
      },
      "source": [
        "Câu 6: Write a Python program to sort a list in ascending order (sort() function)"
      ]
    },
    {
      "cell_type": "code",
      "metadata": {
        "colab": {
          "base_uri": "https://localhost:8080/"
        },
        "id": "V-bAWuR9AzXI",
        "outputId": "530035ed-cec0-41c4-9d47-8c96a1a98d00"
      },
      "source": [
        "list = [1, -3, 0, -12, 9]\n",
        "list.sort()\n",
        "print(list)"
      ],
      "execution_count": 49,
      "outputs": [
        {
          "output_type": "stream",
          "name": "stdout",
          "text": [
            "[-12, -3, 0, 1, 9]\n"
          ]
        }
      ]
    },
    {
      "cell_type": "markdown",
      "metadata": {
        "id": "ldluSQrhBO-0"
      },
      "source": [
        "Câu 7:Write a Python program to get the size of a list (len() function)"
      ]
    },
    {
      "cell_type": "code",
      "metadata": {
        "colab": {
          "base_uri": "https://localhost:8080/"
        },
        "id": "-M2ixmlUBTXq",
        "outputId": "7367f86b-fb7d-4da8-a9c6-836d2b9a9fa1"
      },
      "source": [
        "ListName = [\"HA\", \"MI\", \"NA\", 0, 28, 3]\n",
        "print (\"số phần tử trong list =\",len(ListName))"
      ],
      "execution_count": 25,
      "outputs": [
        {
          "output_type": "stream",
          "name": "stdout",
          "text": [
            "số phần tử trong list = 6\n"
          ]
        }
      ]
    },
    {
      "cell_type": "markdown",
      "metadata": {
        "id": "2DK0efG3BqSi"
      },
      "source": [
        "Câu 8:Write a Python program to get random element(s) of a list (random.choice() function)"
      ]
    },
    {
      "cell_type": "code",
      "metadata": {
        "colab": {
          "base_uri": "https://localhost:8080/"
        },
        "id": "csLkvz9bBudh",
        "outputId": "70b3231e-e7ef-4360-9523-ffbe92096d22"
      },
      "source": [
        "import random\n",
        "number_list = [-35, 1000, 822 , 9, 12]\n",
        "print(random.choice(number_list))"
      ],
      "execution_count": 43,
      "outputs": [
        {
          "output_type": "stream",
          "name": "stdout",
          "text": [
            "822\n"
          ]
        }
      ]
    },
    {
      "cell_type": "markdown",
      "metadata": {
        "id": "3J8LYhgzCMg2"
      },
      "source": [
        "Câu 9: Write a Python program to join two different lists into one (use + or extend() function)"
      ]
    },
    {
      "cell_type": "code",
      "metadata": {
        "colab": {
          "base_uri": "https://localhost:8080/"
        },
        "id": "iX7BkQVvCQQQ",
        "outputId": "aa52ba5a-5a86-4908-8c98-ef9621fb2c8c"
      },
      "source": [
        "list1 = [1, 3, 4, 2]\n",
        "list2 = [\"hai\"]\n",
        "list3 = list2 + list2 + list1\n",
        "print(list3)"
      ],
      "execution_count": 47,
      "outputs": [
        {
          "output_type": "stream",
          "name": "stdout",
          "text": [
            "['hai', 'hai', 1, 3, 4, 2]\n"
          ]
        }
      ]
    }
  ]
}