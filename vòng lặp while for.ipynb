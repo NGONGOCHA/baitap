{
  "nbformat": 4,
  "nbformat_minor": 0,
  "metadata": {
    "colab": {
      "name": "whileloop.ipynb",
      "provenance": [],
      "authorship_tag": "ABX9TyMdwlozL64G3qricnc+1jn5",
      "include_colab_link": true
    },
    "kernelspec": {
      "name": "python3",
      "display_name": "Python 3"
    },
    "language_info": {
      "name": "python"
    }
  },
  "cells": [
    {
      "cell_type": "markdown",
      "metadata": {
        "id": "view-in-github",
        "colab_type": "text"
      },
      "source": [
        "<a href=\"https://colab.research.google.com/github/NGONGOCHA/baitap/blob/main/v%C3%B2ng%20l%E1%BA%B7p%20while%20for.ipynb\" target=\"_parent\"><img src=\"https://colab.research.google.com/assets/colab-badge.svg\" alt=\"Open In Colab\"/></a>"
      ]
    },
    {
      "cell_type": "markdown",
      "metadata": {
        "id": "b80Ar28DMcuu"
      },
      "source": [
        "BÀI 1: Print First 10 natural numbers using while loop"
      ]
    },
    {
      "cell_type": "code",
      "metadata": {
        "colab": {
          "base_uri": "https://localhost:8080/"
        },
        "id": "lVkQMoH7MgF6",
        "outputId": "3153a11e-954f-475e-b3bf-f3c4a727e1dc"
      },
      "source": [
        "count = 0 \n",
        "while count < 10:\n",
        " print(count)\n",
        " count = count + 1"
      ],
      "execution_count": null,
      "outputs": [
        {
          "output_type": "stream",
          "name": "stdout",
          "text": [
            "0\n",
            "1\n",
            "2\n",
            "3\n",
            "4\n",
            "5\n",
            "6\n",
            "7\n",
            "8\n",
            "9\n"
          ]
        }
      ]
    },
    {
      "cell_type": "markdown",
      "metadata": {
        "id": "O5VcJ61cPE3K"
      },
      "source": [
        "BÀI 2: Print the following pattern\n"
      ]
    },
    {
      "cell_type": "code",
      "metadata": {
        "colab": {
          "base_uri": "https://localhost:8080/"
        },
        "id": "4gG4GfT0PGvg",
        "outputId": "fe44d35c-1729-4b21-a3e3-05fd4deffcde"
      },
      "source": [
        "rows = int(input(\"nhập: \"))\n",
        "for i in range(0, - rows, -1):\n",
        "   for j in range(rows + i, 0, -1):\n",
        "     print(j, end = \" \")\n",
        "   print()"
      ],
      "execution_count": null,
      "outputs": [
        {
          "output_type": "stream",
          "name": "stdout",
          "text": [
            "nhập: 5\n",
            "5 4 3 2 1 \n",
            "4 3 2 1 \n",
            "3 2 1 \n",
            "2 1 \n",
            "1 \n"
          ]
        }
      ]
    },
    {
      "cell_type": "markdown",
      "metadata": {
        "id": "uthLLFZPRjj2"
      },
      "source": [
        "BÀI 3: Calculate the sum of all numbers from 1 to a given number"
      ]
    },
    {
      "cell_type": "code",
      "metadata": {
        "colab": {
          "base_uri": "https://localhost:8080/"
        },
        "id": "4uQ-nU4sRkwU",
        "outputId": "6cb9a63b-a6b5-476d-b47f-9f28abd390a0"
      },
      "source": [
        "n = int(input(\"Nhập n: \"))\n",
        "tong = 0 \n",
        "i = 1\n",
        "\n",
        "while i <= n:\n",
        "    tong = tong + i\n",
        "    i = i+1 \n",
        "print(\"Tổng là\", tong)"
      ],
      "execution_count": null,
      "outputs": [
        {
          "output_type": "stream",
          "name": "stdout",
          "text": [
            "Nhập n: 73\n",
            "Tổng là 2701\n"
          ]
        }
      ]
    },
    {
      "cell_type": "markdown",
      "metadata": {
        "id": "Tpc8FU-rR2S6"
      },
      "source": [
        "BÀI 4:  Write a program to print multiplication table of a given number with natural numbers from 1 to 10."
      ]
    },
    {
      "cell_type": "code",
      "metadata": {
        "colab": {
          "base_uri": "https://localhost:8080/"
        },
        "id": "iTOG9JwJR4fU",
        "outputId": "c66607a0-e0fd-4219-eab8-f907b845caef"
      },
      "source": [
        "n = int(input(\"nhập n: \"))\n",
        "for i in range (1, 11):\n",
        " print(n,\"x\",i,\"=\",n * i)"
      ],
      "execution_count": null,
      "outputs": [
        {
          "output_type": "stream",
          "name": "stdout",
          "text": [
            "nhập n: 13\n",
            "13 x 1 = 13\n",
            "13 x 2 = 26\n",
            "13 x 3 = 39\n",
            "13 x 4 = 52\n",
            "13 x 5 = 65\n",
            "13 x 6 = 78\n",
            "13 x 7 = 91\n",
            "13 x 8 = 104\n",
            "13 x 9 = 117\n",
            "13 x 10 = 130\n"
          ]
        }
      ]
    },
    {
      "cell_type": "markdown",
      "metadata": {
        "id": "anEcjjyNYsY1"
      },
      "source": [
        "BÀI 5: Display numbers from a list using loop"
      ]
    },
    {
      "cell_type": "code",
      "metadata": {
        "colab": {
          "base_uri": "https://localhost:8080/"
        },
        "id": "-R48oRTkYtd6",
        "outputId": "7b7c5583-8825-4536-d368-2916bf0b82cf"
      },
      "source": [
        "list = [1,4,5,7,10,12,15,16]\n",
        "for a in list:\n",
        "  print(a)"
      ],
      "execution_count": null,
      "outputs": [
        {
          "output_type": "stream",
          "name": "stdout",
          "text": [
            "1\n",
            "4\n",
            "5\n",
            "7\n",
            "10\n",
            "12\n",
            "15\n",
            "16\n"
          ]
        }
      ]
    },
    {
      "cell_type": "markdown",
      "metadata": {
        "id": "dWP47EfVY61r"
      },
      "source": [
        "BÀI 6: Count the total number of digits in a number"
      ]
    },
    {
      "cell_type": "code",
      "metadata": {
        "colab": {
          "base_uri": "https://localhost:8080/"
        },
        "id": "zTVZPTV9Y8hf",
        "outputId": "cececa01-54f8-4aad-cf9b-8fcf1b91b607"
      },
      "source": [
        "n = int(input(\"Nhập n: \"))\n",
        "count = 0\n",
        "while (n > 0):\n",
        "    count=count+1\n",
        "    n =n //10\n",
        "print(count)"
      ],
      "execution_count": null,
      "outputs": [
        {
          "output_type": "stream",
          "name": "stdout",
          "text": [
            "Nhập n: 78\n",
            "2\n"
          ]
        }
      ]
    },
    {
      "cell_type": "markdown",
      "metadata": {
        "id": "pUN-lWBZH1h7"
      },
      "source": [
        "BÀI 7: Print list in reverse order using a loop"
      ]
    },
    {
      "cell_type": "code",
      "metadata": {
        "colab": {
          "base_uri": "https://localhost:8080/"
        },
        "id": "vwIjMYfkH4h6",
        "outputId": "9f440318-c809-4a21-d9d2-cb38642a639f"
      },
      "source": [
        "list = [3, 6, \"hi\", \"cha\", -10]\n",
        "for i in reversed(list) :\n",
        "    print(i)"
      ],
      "execution_count": null,
      "outputs": [
        {
          "output_type": "stream",
          "name": "stdout",
          "text": [
            "-10\n",
            "cha\n",
            "hi\n",
            "6\n",
            "3\n"
          ]
        }
      ]
    },
    {
      "cell_type": "markdown",
      "metadata": {
        "id": "leqTD1yxJgj9"
      },
      "source": [
        "BÀI 8: Display numbers from -10 to -1 using for loop\n"
      ]
    },
    {
      "cell_type": "code",
      "metadata": {
        "colab": {
          "base_uri": "https://localhost:8080/"
        },
        "id": "xWGfoLOLJh2F",
        "outputId": "962aa24a-ee7f-4101-e4e0-efbadf3a3c58"
      },
      "source": [
        "a = int(input(\"nhập a: \"))\n",
        "b = int(input(\"nhập b: \"))\n",
        "for i in range(a, b):\n",
        " print(i)"
      ],
      "execution_count": null,
      "outputs": [
        {
          "output_type": "stream",
          "name": "stdout",
          "text": [
            "nhập a: -10\n",
            "nhập b: 0\n",
            "-10\n",
            "-9\n",
            "-8\n",
            "-7\n",
            "-6\n",
            "-5\n",
            "-4\n",
            "-3\n",
            "-2\n",
            "-1\n"
          ]
        }
      ]
    },
    {
      "cell_type": "markdown",
      "metadata": {
        "id": "e6mLAGZXvHZJ"
      },
      "source": [
        "BÀI 9: Use else block to display a message “Done” after successful execution of for loop"
      ]
    },
    {
      "cell_type": "code",
      "metadata": {
        "colab": {
          "base_uri": "https://localhost:8080/"
        },
        "id": "_XPk-YxxvM3w",
        "outputId": "60e57343-0210-4b39-e3a4-005edb718e43"
      },
      "source": [
        "for i in range(5):\n",
        "    print(i)\n",
        "else:\n",
        "  print(\"Done\")"
      ],
      "execution_count": 13,
      "outputs": [
        {
          "output_type": "stream",
          "name": "stdout",
          "text": [
            "0\n",
            "1\n",
            "2\n",
            "3\n",
            "4\n",
            "Done\n"
          ]
        }
      ]
    },
    {
      "cell_type": "markdown",
      "metadata": {
        "id": "YKD5o_e5MhyM"
      },
      "source": [
        "BÀI 10: Write a program to display all prime numbers within a range\n"
      ]
    },
    {
      "cell_type": "code",
      "metadata": {
        "colab": {
          "base_uri": "https://localhost:8080/"
        },
        "id": "vme0_CZKMf4e",
        "outputId": "07d0c2e9-4a1e-495d-d88c-d5b9651088fc"
      },
      "source": [
        "so1 = int(input(\"nhập so1: \"))\n",
        "so2 = int(input(\"nhập so2: \"))\n",
        "\n",
        "for z in range(so1, so2 + 1):\n",
        "    if z > 1:\n",
        "        for x in range(2, z):\n",
        "            if (z % x) == 0:\n",
        "                break\n",
        "        else:\n",
        "            print(z)"
      ],
      "execution_count": 7,
      "outputs": [
        {
          "output_type": "stream",
          "name": "stdout",
          "text": [
            "nhập so1: 1\n",
            "nhập so2: 17\n",
            "2\n",
            "3\n",
            "5\n",
            "7\n",
            "11\n",
            "13\n",
            "17\n"
          ]
        }
      ]
    },
    {
      "cell_type": "markdown",
      "metadata": {
        "id": "L5KM3P3YNuh1"
      },
      "source": [
        "BÀI 11: Display Fibonacci series up to 10 terms"
      ]
    },
    {
      "cell_type": "code",
      "metadata": {
        "colab": {
          "base_uri": "https://localhost:8080/"
        },
        "id": "q6FOqgnJNv88",
        "outputId": "b4728147-e783-40d5-b676-348e869f4899"
      },
      "source": [
        "so1, so2 = 0, 1\n",
        "print(\"Fibonacci series:\")\n",
        "for i in range(10):\n",
        "  print(so1, end=\" \")\n",
        "  fi = so1 + so2\n",
        "  so1 = so2\n",
        "  so2 = fi"
      ],
      "execution_count": 20,
      "outputs": [
        {
          "output_type": "stream",
          "name": "stdout",
          "text": [
            "Fibonacci series:\n",
            "0 1 1 2 3 5 8 13 21 34 "
          ]
        }
      ]
    },
    {
      "cell_type": "markdown",
      "metadata": {
        "id": "v-yaWOExuTK-"
      },
      "source": [
        "BÀI 12: Find the factorial of a given number\n"
      ]
    },
    {
      "cell_type": "code",
      "metadata": {
        "id": "Fxtfp2oKFvtb",
        "colab": {
          "base_uri": "https://localhost:8080/"
        },
        "outputId": "2ed7de90-cc68-4c2e-cab8-76b42465b91f"
      },
      "source": [
        "num = int(input(\"Nhập số: \"))\n",
        "factorial = 1\n",
        "while num < 0:\n",
        "    print(\"math error\")\n",
        "    num = int(input(\"nhập: \"))\n",
        "if num == 0:\n",
        "    print(\"Factorial 0 is 1\")\n",
        "else:\n",
        "    for i in range(1, num + 1):\n",
        "        factorial = factorial * i\n",
        "    print(\"The factorial of\", num, \":\", factorial)"
      ],
      "execution_count": 19,
      "outputs": [
        {
          "output_type": "stream",
          "name": "stdout",
          "text": [
            "Nhập số: -7\n",
            "math error\n",
            "nhập: 5\n",
            "The factorial of 5 : 120\n"
          ]
        }
      ]
    },
    {
      "cell_type": "markdown",
      "metadata": {
        "id": "-NWbWO_wxpxh"
      },
      "source": [
        "Bài 13: Reverse a given integer number"
      ]
    },
    {
      "cell_type": "code",
      "metadata": {
        "colab": {
          "base_uri": "https://localhost:8080/"
        },
        "id": "Mn25Vd3ixr5E",
        "outputId": "5923e25e-1c30-4a77-f9c6-8f4ab9cf2753"
      },
      "source": [
        "number13 = int(input(\"number13: \"))\n",
        "reverse_number = 0\n",
        "print(\"Entered Number: \", number13)\n",
        "while number13 > 0:\n",
        "    a = number13 % 10\n",
        "    reverse_number = (reverse_number * 10) + a\n",
        "    number13 = number13 // 10\n",
        "print(\"Reverse Number: \", reverse_number)"
      ],
      "execution_count": 21,
      "outputs": [
        {
          "output_type": "stream",
          "name": "stdout",
          "text": [
            "number13: 345678\n",
            "Entered Number:  345678\n",
            "Reverse Number:  876543\n"
          ]
        }
      ]
    },
    {
      "cell_type": "markdown",
      "metadata": {
        "id": "t944djWay0e5"
      },
      "source": [
        "Bài 14: Use a loop to display elements from a given list present at odd index positions"
      ]
    },
    {
      "cell_type": "code",
      "metadata": {
        "colab": {
          "base_uri": "https://localhost:8080/"
        },
        "id": "WvPqG9ACy54f",
        "outputId": "2ca2d8a3-2ab8-4525-8fb5-f0222fea017a"
      },
      "source": [
        "chuỗi = [-2, 7, 'trứng', 'cá', 'cua', 46, 3000, 'tôm tít']\n",
        "for i in chuỗi[1::2]:\n",
        "    print(i, end = \" \")\n",
        "    print()"
      ],
      "execution_count": 27,
      "outputs": [
        {
          "output_type": "stream",
          "name": "stdout",
          "text": [
            "7 \n",
            "cá \n",
            "46 \n",
            "tôm tít \n"
          ]
        }
      ]
    },
    {
      "cell_type": "markdown",
      "metadata": {
        "id": "e-6PTfq9y-Td"
      },
      "source": [
        "Bài 15: Calculate the cube of all numbers from 1 to a given number"
      ]
    },
    {
      "cell_type": "code",
      "metadata": {
        "colab": {
          "base_uri": "https://localhost:8080/"
        },
        "id": "IhDUE1G1zAsv",
        "outputId": "cd465d68-46d5-44f2-9a49-60b07f25b6f1"
      },
      "source": [
        "so15 = int(input(\"number:\"))\n",
        "for w in range(1, so15 + 1):\n",
        "  cube = w*w*w\n",
        "  print(\"cube của\", w, \"là: \", cube)"
      ],
      "execution_count": 33,
      "outputs": [
        {
          "output_type": "stream",
          "name": "stdout",
          "text": [
            "number:11\n",
            "cube của 1 là:  1\n",
            "cube của 2 là:  8\n",
            "cube của 3 là:  27\n",
            "cube của 4 là:  64\n",
            "cube của 5 là:  125\n",
            "cube của 6 là:  216\n",
            "cube của 7 là:  343\n",
            "cube của 8 là:  512\n",
            "cube của 9 là:  729\n",
            "cube của 10 là:  1000\n",
            "cube của 11 là:  1331\n"
          ]
        }
      ]
    }
  ]
}