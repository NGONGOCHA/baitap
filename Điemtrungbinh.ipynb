{
  "nbformat": 4,
  "nbformat_minor": 0,
  "metadata": {
    "colab": {
      "name": "Điemtrungbinh.ipynb",
      "provenance": [],
      "authorship_tag": "ABX9TyMj3gy7uhLi/15DK9LrDg78",
      "include_colab_link": true
    },
    "kernelspec": {
      "name": "python3",
      "display_name": "Python 3"
    },
    "language_info": {
      "name": "python"
    }
  },
  "cells": [
    {
      "cell_type": "markdown",
      "metadata": {
        "id": "view-in-github",
        "colab_type": "text"
      },
      "source": [
        "<a href=\"https://colab.research.google.com/github/NGONGOCHA/baitap/blob/main/%C4%90iemtrungbinh.ipynb\" target=\"_parent\"><img src=\"https://colab.research.google.com/assets/colab-badge.svg\" alt=\"Open In Colab\"/></a>"
      ]
    },
    {
      "cell_type": "code",
      "metadata": {
        "colab": {
          "base_uri": "https://localhost:8080/"
        },
        "id": "g_QA6j-y9EWK",
        "outputId": "1128a61c-7099-468c-9d3a-a199948b48cb"
      },
      "source": [
        "dtb = float(input(\"dtb là: \"))\n",
        "if (dtb < 5):\n",
        "    print(\"học sinh đạt loại yếu\")\n",
        "elif (dtb < 7):\n",
        "    print(\"học sinh đạt loại trung bình\")\n",
        "elif (dtb < 8):\n",
        "    print(\"học sinh đạt loại khá\")\n",
        "elif (dtb < 9):\n",
        "    print(\"học sinh đạt loại giỏi\")\n",
        "else:\n",
        "    print(\"học sinh đạt loại xuất sắc\")"
      ],
      "execution_count": 1,
      "outputs": [
        {
          "output_type": "stream",
          "name": "stdout",
          "text": [
            "dtb là: 9\n",
            "học sinh đạt loại xuất sắc\n"
          ]
        }
      ]
    }
  ]
}