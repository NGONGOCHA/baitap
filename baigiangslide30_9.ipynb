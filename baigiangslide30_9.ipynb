{
  "nbformat": 4,
  "nbformat_minor": 0,
  "metadata": {
    "colab": {
      "name": "baigiangslide30/9.ipynb",
      "provenance": [],
      "authorship_tag": "ABX9TyPFF0q4gpvLyI/erY4X6AHv",
      "include_colab_link": true
    },
    "kernelspec": {
      "name": "python3",
      "display_name": "Python 3"
    },
    "language_info": {
      "name": "python"
    }
  },
  "cells": [
    {
      "cell_type": "markdown",
      "metadata": {
        "id": "view-in-github",
        "colab_type": "text"
      },
      "source": [
        "<a href=\"https://colab.research.google.com/github/NGONGOCHA/baitap/blob/main/baigiangslide30_9.ipynb\" target=\"_parent\"><img src=\"https://colab.research.google.com/assets/colab-badge.svg\" alt=\"Open In Colab\"/></a>"
      ]
    },
    {
      "cell_type": "markdown",
      "metadata": {
        "id": "plIN-goXFXve"
      },
      "source": [
        "KIỂU LIST"
      ]
    },
    {
      "cell_type": "code",
      "metadata": {
        "id": "F8WXW8yIFa5k"
      },
      "source": [
        "list1 = ['physics', 'chemistry', 1997, 2000]\n",
        "list2 = [1, 2, 3, 4, 5 ]\n",
        "list3 = [\"a\", \"b\", \"c\", \"d\"]"
      ],
      "execution_count": 16,
      "outputs": []
    },
    {
      "cell_type": "code",
      "metadata": {
        "colab": {
          "base_uri": "https://localhost:8080/"
        },
        "id": "Yi5AbfESFrYN",
        "outputId": "3525cac0-11fc-437c-91a8-6344094240e7"
      },
      "source": [
        "list1 = ['physics', 'chemistry', 1997, 2000]\n",
        "list2 = [1, 2, 3, 4, 5, 6, 7 ]\n",
        "print(\"list1[0]: \", list1[0])\n",
        "print(\"list2[1:5]: \", list2[1:5])"
      ],
      "execution_count": 10,
      "outputs": [
        {
          "output_type": "stream",
          "name": "stdout",
          "text": [
            "list1[0]:  physics\n",
            "list2[1:5]:  [2, 3, 4, 5]\n"
          ]
        }
      ]
    },
    {
      "cell_type": "code",
      "metadata": {
        "colab": {
          "base_uri": "https://localhost:8080/"
        },
        "id": "l4wAY5T7GbP7",
        "outputId": "d583c98f-ecf5-409b-a2d3-cc7dac569684"
      },
      "source": [
        "list = ['physics', 'chemistry', 1997, 2000]\n",
        "print(\"Value available at index 2 : \")\n",
        "print(list[2])\n",
        "list[2] = 2001\n",
        "print(\"New value available at index 2 : \")\n",
        "print(list[2])"
      ],
      "execution_count": 13,
      "outputs": [
        {
          "output_type": "stream",
          "name": "stdout",
          "text": [
            "Value available at index 2 : \n",
            "1997\n",
            "New value available at index 2 : \n",
            "2001\n"
          ]
        }
      ]
    },
    {
      "cell_type": "code",
      "metadata": {
        "colab": {
          "base_uri": "https://localhost:8080/"
        },
        "id": "V93McZNdGuwo",
        "outputId": "fbd824d5-a963-42ec-f313-29178e212972"
      },
      "source": [
        "list1 = ['physics', 'chemistry', 1997, 2000]\n",
        "print(list1)\n",
        "del list1[2]\n",
        "print(\"After deleting value at index 2 : \")\n",
        "print(list1)"
      ],
      "execution_count": 15,
      "outputs": [
        {
          "output_type": "stream",
          "name": "stdout",
          "text": [
            "['physics', 'chemistry', 1997, 2000]\n",
            "After deleting value at index 2 : \n",
            "['physics', 'chemistry', 2000]\n"
          ]
        }
      ]
    },
    {
      "cell_type": "markdown",
      "metadata": {
        "id": "WOuIh69ZG1gz"
      },
      "source": [
        "KIỂU TUPLES"
      ]
    },
    {
      "cell_type": "code",
      "metadata": {
        "id": "OaaJQBZXGzeS"
      },
      "source": [
        "tup1 = ('physics', 'chemistry', 1997, 2000)\n",
        "tup2 = (1, 2, 3, 4, 5 )\n",
        "tup3 = \"a\", \"b\", \"c\", \"d\"\n",
        "tup1 = ()\n",
        "tup1 = (50,)"
      ],
      "execution_count": null,
      "outputs": []
    },
    {
      "cell_type": "code",
      "metadata": {
        "colab": {
          "base_uri": "https://localhost:8080/"
        },
        "id": "WBzDw5yLG8ud",
        "outputId": "8dbf2d89-e3b2-4ea4-a8bc-de9c69e827c8"
      },
      "source": [
        "tup1 = ('physics', 'chemistry', 1997, 2000)\n",
        "tup2 = (1, 2, 3, 4, 5, 6, 7 )\n",
        "print(\"tup1[0]: \", tup1[0])\n",
        "print(\"tup2[1:5]: \", tup2[1:5])"
      ],
      "execution_count": 17,
      "outputs": [
        {
          "output_type": "stream",
          "name": "stdout",
          "text": [
            "tup1[0]:  physics\n",
            "tup2[1:5]:  (2, 3, 4, 5)\n"
          ]
        }
      ]
    },
    {
      "cell_type": "code",
      "metadata": {
        "colab": {
          "base_uri": "https://localhost:8080/"
        },
        "id": "QYYmlUVsHDBs",
        "outputId": "dfcb5ffa-9879-451e-b53f-38411bb436bd"
      },
      "source": [
        "tup1 = (12, 34.56)\n",
        "tup2 = ('abc', 'xyz')\n",
        "tup3 = tup1 + tup2\n",
        "print(tup3)"
      ],
      "execution_count": 18,
      "outputs": [
        {
          "output_type": "stream",
          "name": "stdout",
          "text": [
            "(12, 34.56, 'abc', 'xyz')\n"
          ]
        }
      ]
    },
    {
      "cell_type": "code",
      "metadata": {
        "colab": {
          "base_uri": "https://localhost:8080/"
        },
        "id": "HJZs04-fHG4o",
        "outputId": "bb9d1b98-e2d9-480b-f3a8-013c84f341ea"
      },
      "source": [
        "tup = (\"physics\", \"chemistry\", 1997, 2000)\n",
        "print(tup)\n",
        "del tup\n",
        "print(\"After deleting tup : \")"
      ],
      "execution_count": 20,
      "outputs": [
        {
          "output_type": "stream",
          "name": "stdout",
          "text": [
            "('physics', 'chemistry', 1997, 2000)\n",
            "After deleting tup : \n"
          ]
        }
      ]
    },
    {
      "cell_type": "markdown",
      "metadata": {
        "id": "5rc8tr1IHQOy"
      },
      "source": [
        "KIỂU DICTIONARY"
      ]
    },
    {
      "cell_type": "code",
      "metadata": {
        "colab": {
          "base_uri": "https://localhost:8080/"
        },
        "id": "GcfW6B3HHJwY",
        "outputId": "cda5861b-dfe4-48ad-e549-5a16c5a1d8fa"
      },
      "source": [
        "dict = {'Name': 'Zara', 'Age': 7, 'Class': 'First'}\n",
        "print(\"dict['Name']: \", dict['Name'])\n",
        "print(\"dict['Age']: \", dict['Age'])"
      ],
      "execution_count": 21,
      "outputs": [
        {
          "output_type": "stream",
          "name": "stdout",
          "text": [
            "dict['Name']:  Zara\n",
            "dict['Age']:  7\n"
          ]
        }
      ]
    },
    {
      "cell_type": "code",
      "metadata": {
        "colab": {
          "base_uri": "https://localhost:8080/"
        },
        "id": "bmQ0hfi8HVoN",
        "outputId": "8612c518-4a37-486b-843c-0a47b6b78f2a"
      },
      "source": [
        "dict = {'Name': 'Zara', 'Age': 7, 'Class': 'First'}\n",
        "dict['Age'] = 8; \n",
        "dict['School'] = \"DPS School\"; \n",
        "print(\"dict['Age']: \", dict['Age'])\n",
        "print(\"dict['School']: \", dict['School'])"
      ],
      "execution_count": 22,
      "outputs": [
        {
          "output_type": "stream",
          "name": "stdout",
          "text": [
            "dict['Age']:  8\n",
            "dict['School']:  DPS School\n"
          ]
        }
      ]
    },
    {
      "cell_type": "code",
      "metadata": {
        "id": "2moCnhlJHYKv"
      },
      "source": [
        "dict = {'Name': 'Zara', 'Age': 7, 'Class': 'First'}\n",
        "del dict['Name']\n",
        "dict.clear() \n",
        "del dict "
      ],
      "execution_count": 23,
      "outputs": []
    },
    {
      "cell_type": "markdown",
      "metadata": {
        "id": "p8miUe4WHcbo"
      },
      "source": [
        "KIỂU SET"
      ]
    },
    {
      "cell_type": "code",
      "metadata": {
        "colab": {
          "base_uri": "https://localhost:8080/"
        },
        "id": "FNsQ5TpbHa4v",
        "outputId": "73da339b-5244-4ec0-a4d7-6778ab4cb637"
      },
      "source": [
        "Set = set([\"a\", \"b\", \"c\"])\n",
        "print(\"Set: \")\n",
        "print(Set)\n",
        "\n",
        "Set.add(\"d\")\n",
        "print(\"\\nSet after adding: \")\n",
        "print(Set)"
      ],
      "execution_count": 24,
      "outputs": [
        {
          "output_type": "stream",
          "name": "stdout",
          "text": [
            "Set: \n",
            "{'a', 'b', 'c'}\n",
            "\n",
            "Set after adding: \n",
            "{'a', 'b', 'c', 'd'}\n"
          ]
        }
      ]
    },
    {
      "cell_type": "code",
      "metadata": {
        "id": "PIA7x6tQHloj"
      },
      "source": [
        "people = {\"Jay\", \"Idrish\", \"Archi\"}\n",
        "print(\"People: \")\n",
        "print(people)\n",
        "people.add(\"Daxit\")\n",
        "for i in range(1, 6):\n",
        "people.add(i)\n",
        "print(\"\\nSet after adding element:\", end = \" \")\n",
        "print(people)"
      ],
      "execution_count": null,
      "outputs": []
    },
    {
      "cell_type": "code",
      "metadata": {
        "colab": {
          "base_uri": "https://localhost:8080/"
        },
        "id": "iN6Ra1vSHs3u",
        "outputId": "c04e9adc-79a5-46b4-9f80-424ea2427fc2"
      },
      "source": [
        "Days=set([\"Mon\",\"Tue\",\"Wed\",\"Thu\",\"Fri\",\"Sat\"])\n",
        "Days.discard(\"Sun\")\n",
        "print(Days)"
      ],
      "execution_count": 26,
      "outputs": [
        {
          "output_type": "stream",
          "name": "stdout",
          "text": [
            "{'Tue', 'Wed', 'Mon', 'Sat', 'Fri', 'Thu'}\n"
          ]
        }
      ]
    },
    {
      "cell_type": "code",
      "metadata": {
        "colab": {
          "base_uri": "https://localhost:8080/"
        },
        "id": "Q3kKzEOSHyQN",
        "outputId": "415176ee-2980-404d-ce1d-dce8f54a1c60"
      },
      "source": [
        "set1 = {1,2,3,4,5,6}\n",
        "print(\"Initial set\")\n",
        "print(set1)\n",
        "set1.clear()\n",
        "print(\"\\nSet after using clear() function\")\n",
        "print(set1)"
      ],
      "execution_count": 27,
      "outputs": [
        {
          "output_type": "stream",
          "name": "stdout",
          "text": [
            "Initial set\n",
            "{1, 2, 3, 4, 5, 6}\n",
            "\n",
            "Set after using clear() function\n",
            "set()\n"
          ]
        }
      ]
    },
    {
      "cell_type": "code",
      "metadata": {
        "colab": {
          "base_uri": "https://localhost:8080/"
        },
        "id": "ryEpq-0kH1Cn",
        "outputId": "d7f2d758-655e-4feb-a778-a6e0fb8b37ea"
      },
      "source": [
        "people = {\"Jay\", \"Idrish\", \"Archil\"}\n",
        "vampires = {\"Karan\", \"Arjun\"}\n",
        "dracula = {\"Deepanshu\", \"Raju\"}\n",
        "population = people.union(vampires)\n",
        "print(\"Union using union() function\")\n",
        "print(population)\n",
        "population = people|dracula\n",
        "print(\"\\nUnion using '|' operator\")\n",
        "print(population)"
      ],
      "execution_count": 28,
      "outputs": [
        {
          "output_type": "stream",
          "name": "stdout",
          "text": [
            "Union using union() function\n",
            "{'Archil', 'Karan', 'Arjun', 'Jay', 'Idrish'}\n",
            "\n",
            "Union using '|' operator\n",
            "{'Raju', 'Archil', 'Deepanshu', 'Jay', 'Idrish'}\n"
          ]
        }
      ]
    },
    {
      "cell_type": "code",
      "metadata": {
        "id": "RYWyM_GVH6SD"
      },
      "source": [
        "set1 = set()\n",
        "for i in range(5):\n",
        "set1.add(i)\n",
        "set2 = {3, 4, 5, 6, 7, 8}\n",
        "set3 = set1.intersection(set2)\n",
        "print(\"Intersection using intersection() function\")\n",
        "print(set3)\n",
        "set3 = set1 & set2\n",
        "print(\"\\nIntersection using '&' operator\")\n",
        "print(set3)"
      ],
      "execution_count": null,
      "outputs": []
    },
    {
      "cell_type": "code",
      "metadata": {
        "id": "REPr9SPrIAaK"
      },
      "source": [
        "set1 = set()\n",
        "for i in range(5):\n",
        "set1.add(i)\n",
        "set2 = {3, 4, 5, 6, 7, 8}\n",
        "set3 = set1.difference(set2)\n",
        "print(\" Difference of two sets using difference() function\")\n",
        "print(set3)\n",
        "set3 = set1 - set2\n",
        "print(\"\\nDifference of two sets using '-' operator\")\n",
        "print(set3)"
      ],
      "execution_count": null,
      "outputs": []
    },
    {
      "cell_type": "code",
      "metadata": {
        "colab": {
          "base_uri": "https://localhost:8080/"
        },
        "id": "ItIhsYCvICfN",
        "outputId": "91eb6f1d-06f5-4f30-e94f-73473ace80c4"
      },
      "source": [
        "DaysA = set([\"Mon\",\"Tue\",\"Wed\"])\n",
        "DaysB = set([\"Mon\",\"Tue\",\"Wed\",\"Thu\",\"Fri\",\"Sat\",\"Sun\"])\n",
        "SubsetRes = DaysA <= DaysB\n",
        "SupersetRes = DaysB >= DaysA\n",
        "print(SubsetRes)\n",
        "print(SupersetRes)"
      ],
      "execution_count": 31,
      "outputs": [
        {
          "output_type": "stream",
          "name": "stdout",
          "text": [
            "True\n",
            "True\n"
          ]
        }
      ]
    },
    {
      "cell_type": "markdown",
      "metadata": {
        "id": "IMC4VF5_IGRn"
      },
      "source": [
        "KIỂU DATE & TIME"
      ]
    },
    {
      "cell_type": "code",
      "metadata": {
        "colab": {
          "base_uri": "https://localhost:8080/"
        },
        "id": "564JbY61IEwb",
        "outputId": "893bafd9-9386-4d07-9244-ec6d5091ce58"
      },
      "source": [
        "import time; \n",
        "ticks = time.time()\n",
        "print(\"Number of ticks since 12:00am, January 1, 1970:\", ticks)\n",
        "\n",
        "localtime = time.localtime(time.time())\n",
        "print(\"Local current time :\", localtime)"
      ],
      "execution_count": 32,
      "outputs": [
        {
          "output_type": "stream",
          "name": "stdout",
          "text": [
            "Number of ticks since 12:00am, January 1, 1970: 1633582902.7868867\n",
            "Local current time : time.struct_time(tm_year=2021, tm_mon=10, tm_mday=7, tm_hour=5, tm_min=1, tm_sec=42, tm_wday=3, tm_yday=280, tm_isdst=0)\n"
          ]
        }
      ]
    },
    {
      "cell_type": "code",
      "metadata": {
        "colab": {
          "base_uri": "https://localhost:8080/"
        },
        "id": "Sty_-BXRIO1o",
        "outputId": "f760d836-e290-44c7-c24d-1e0248ab7878"
      },
      "source": [
        "import time;\n",
        "localtime = time.asctime( time.localtime(time.time()) )\n",
        "print(\"Local current time :\", localtime)"
      ],
      "execution_count": 33,
      "outputs": [
        {
          "output_type": "stream",
          "name": "stdout",
          "text": [
            "Local current time : Thu Oct  7 05:01:57 2021\n"
          ]
        }
      ]
    },
    {
      "cell_type": "code",
      "metadata": {
        "colab": {
          "base_uri": "https://localhost:8080/"
        },
        "id": "wZdmRp0FIScr",
        "outputId": "f23468c8-c8b1-43d8-8349-6382a7ef03eb"
      },
      "source": [
        "import calendar\n",
        "cal = calendar.month(2008, 1)\n",
        "print(\"Here is the calendar:\")\n",
        "print(cal)"
      ],
      "execution_count": 34,
      "outputs": [
        {
          "output_type": "stream",
          "name": "stdout",
          "text": [
            "Here is the calendar:\n",
            "    January 2008\n",
            "Mo Tu We Th Fr Sa Su\n",
            "    1  2  3  4  5  6\n",
            " 7  8  9 10 11 12 13\n",
            "14 15 16 17 18 19 20\n",
            "21 22 23 24 25 26 27\n",
            "28 29 30 31\n",
            "\n"
          ]
        }
      ]
    }
  ]
}