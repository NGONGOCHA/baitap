{
  "nbformat": 4,
  "nbformat_minor": 0,
  "metadata": {
    "colab": {
      "name": "loop excercies 2.ipynb",
      "provenance": [],
      "authorship_tag": "ABX9TyMEDwV3NBiF/hyYU2mOItNb",
      "include_colab_link": true
    },
    "kernelspec": {
      "name": "python3",
      "display_name": "Python 3"
    },
    "language_info": {
      "name": "python"
    }
  },
  "cells": [
    {
      "cell_type": "markdown",
      "metadata": {
        "id": "view-in-github",
        "colab_type": "text"
      },
      "source": [
        "<a href=\"https://colab.research.google.com/github/NGONGOCHA/baitap/blob/main/loop_excercies_2.ipynb\" target=\"_parent\"><img src=\"https://colab.research.google.com/assets/colab-badge.svg\" alt=\"Open In Colab\"/></a>"
      ]
    },
    {
      "cell_type": "markdown",
      "metadata": {
        "id": "D95VR-OK2E3W"
      },
      "source": [
        "Bài 1: Viết chương trình tìm tất cả các số chia hết cho 7 nhưng không phải bội số của 5, nằm trong\n",
        "đoạn 10 và 200 (tính cả 10 và 200). Các số thu được sẽ được in ra màn hình.\n"
      ]
    },
    {
      "cell_type": "code",
      "metadata": {
        "colab": {
          "base_uri": "https://localhost:8080/"
        },
        "id": "yh1JTDne2exM",
        "outputId": "ef506977-2856-4c95-e3cf-f1e29a6b5772"
      },
      "source": [
        "for i in range(10,201):\n",
        "  if(i % 7 == 0) and (i % 5 != 0):\n",
        "    print(i,end=\" \")"
      ],
      "execution_count": null,
      "outputs": [
        {
          "output_type": "stream",
          "name": "stdout",
          "text": [
            "14 21 28 42 49 56 63 77 84 91 98 112 119 126 133 147 154 161 168 182 189 196 "
          ]
        }
      ]
    },
    {
      "cell_type": "markdown",
      "metadata": {
        "id": "iUMGU03e3RDW"
      },
      "source": [
        "Bài 2: Viết một chương trình tính giai thừa của một số nguyên dương n. Với n được nhập từ bàn phím. Ví dụ, n = 8 thì kết quả đầu ra phải là 1*2*3*4*5*6*7*8 = 40320."
      ]
    },
    {
      "cell_type": "code",
      "metadata": {
        "colab": {
          "base_uri": "https://localhost:8080/"
        },
        "id": "-yL2bgAT3Wb6",
        "outputId": "c247c26d-c757-494b-8e14-557b98d7952a"
      },
      "source": [
        "n = int(input(\"Nhập giá trị n: \"))\n",
        "if n < 0: \n",
        "  print(\"math error\")\n",
        "  n = int(input(\"Nhập: \"))\n",
        "if n > 0:\n",
        "    giaithua = 1\n",
        "    for i in range(1, n+1):\n",
        "        giaithua = giaithua * i\n",
        "    print(n,\"giai thừa bằng:\", giaithua)"
      ],
      "execution_count": 5,
      "outputs": [
        {
          "output_type": "stream",
          "name": "stdout",
          "text": [
            "Nhập giá trị n: -6\n",
            "math error\n",
            "Nhập: 8\n",
            "8 giai thừa bằng: 40320\n"
          ]
        }
      ]
    },
    {
      "cell_type": "markdown",
      "metadata": {
        "id": "Gbwv1P7j4xUd"
      },
      "source": [
        "Bài 3: Dãy số Fibonacci được định nghĩa như sau: F0 = 0, F1 = 1, F2 = 1, Fn = F(n-1) + F(n-2) với n >= 2. Ví dụ: 0, 1, 1, 2, 3, 5, 8, ... Hãy viết chương trình tìm n số Fibonacci đầu tiên với n nhập vào từ bàn phím."
      ]
    },
    {
      "cell_type": "code",
      "metadata": {
        "colab": {
          "base_uri": "https://localhost:8080/"
        },
        "id": "XPI5kolN44P7",
        "outputId": "c8c6a629-5557-4e5e-c132-2823e7d67ffc"
      },
      "source": [
        "so1, so2 = 0, 1\n",
        "n = int(input(\"nhập n: \"))\n",
        "print(\"Fibonacci series:\")\n",
        "for i in range(n):\n",
        "  print(so1, end=\" \")\n",
        "  fi = so1 + so2\n",
        "  so1 = so2\n",
        "  so2 = fi"
      ],
      "execution_count": null,
      "outputs": [
        {
          "output_type": "stream",
          "name": "stdout",
          "text": [
            "nhập n: 15\n",
            "Fibonacci series:\n",
            "0 1 1 2 3 5 8 13 21 34 55 89 144 233 377 "
          ]
        }
      ]
    },
    {
      "cell_type": "markdown",
      "metadata": {
        "id": "Vt6_vKqK5QTm"
      },
      "source": [
        "Bài 4: Viết chương trình liệt kê tất cả các số nguyên tố nhỏ hơn n. Số nguyên dương n được nhập từ bàn phím."
      ]
    },
    {
      "cell_type": "code",
      "metadata": {
        "colab": {
          "base_uri": "https://localhost:8080/"
        },
        "id": "d-nFkkBF5VEj",
        "outputId": "33150062-0697-4f4b-b639-c627839e3261"
      },
      "source": [
        "num4 = int(input(\"Nhập n: \"))\n",
        "print(\"Các số nguyên tố nhỏ hơn\", num4, \"là:\")\n",
        "for num4 in range(0, num4):\n",
        "  if num4 > 1:\n",
        "    for i in range(2, num4):\n",
        "      if (num4 % i) == 0:\n",
        "        break\n",
        "    else:\n",
        "      print(num4)"
      ],
      "execution_count": 8,
      "outputs": [
        {
          "output_type": "stream",
          "name": "stdout",
          "text": [
            "Nhập n: 8\n",
            "Các số nguyên tố nhỏ hơn 8 là:\n",
            "2\n",
            "3\n",
            "5\n",
            "7\n"
          ]
        }
      ]
    },
    {
      "cell_type": "markdown",
      "metadata": {
        "id": "_c3-OoIK5uts"
      },
      "source": [
        "Bài 5: Viết chương trình liệt kê n số nguyên tố đầu tiên. Số nguyên dương n được nhập từ bàn phím."
      ]
    },
    {
      "cell_type": "code",
      "metadata": {
        "colab": {
          "base_uri": "https://localhost:8080/"
        },
        "id": "MFed9ZbuDG_b",
        "outputId": "9c9b5136-4837-4284-c1a0-3b1d4ccff737"
      },
      "source": [
        "n = int(input(\"nhập n: \"))\n",
        "dem = 0\n",
        "i = 2\n",
        "while dem < n:\n",
        "  d = 0 \n",
        "  for y in range(1, i+1):\n",
        "    if i % y == 0:\n",
        "       d = d + 1\n",
        "  if d == 2:\n",
        "    print(i, end = \" \")\n",
        "    dem = dem + 1\n",
        "  i = i + 1"
      ],
      "execution_count": 9,
      "outputs": [
        {
          "output_type": "stream",
          "name": "stdout",
          "text": [
            "nhập n: 8\n",
            "2 3 5 7 11 13 17 19 "
          ]
        }
      ]
    },
    {
      "cell_type": "markdown",
      "metadata": {
        "id": "mDR-Wuy76A4v"
      },
      "source": [
        "Bài 6: Viết chương trình liệt kê tất cả số nguyên tố có 5 chữ số."
      ]
    },
    {
      "cell_type": "code",
      "metadata": {
        "id": "pniYXVMQeDC7"
      },
      "source": [
        "for num in range(10000, 100000):\n",
        "   if num > 1:\n",
        "       for i in range(2, num):\n",
        "           if (num % i) == 0:\n",
        "               break\n",
        "       else:\n",
        "           print(num)"
      ],
      "execution_count": null,
      "outputs": []
    },
    {
      "cell_type": "markdown",
      "metadata": {
        "id": "by-fpn2k7mtu"
      },
      "source": [
        "Bài 7: Viết chương trình tính tổng của các chữ số của môt số nguyên n. Số nguyên dương n được nhập từ bàn phím. Ví dụ: n = 1234, tổng các chữ số: 1 + 2 + 3 + 4 = 10"
      ]
    },
    {
      "cell_type": "code",
      "metadata": {
        "colab": {
          "base_uri": "https://localhost:8080/"
        },
        "id": "fmw6S13x7p9C",
        "outputId": "15b05982-82df-40b9-f7d7-60536fc8484d"
      },
      "source": [
        "n = int(input(\"Nhập n = \"));\n",
        "total = 0;\n",
        "while (n > 0):\n",
        "  total = total + n % 10;\n",
        "  n = int(n // 10);\n",
        "print(\"tổng các chữ số là: \", total)"
      ],
      "execution_count": null,
      "outputs": [
        {
          "output_type": "stream",
          "name": "stdout",
          "text": [
            "Nhập n = 12345\n",
            "tổng các chữ số là:  15\n"
          ]
        }
      ]
    },
    {
      "cell_type": "markdown",
      "metadata": {
        "id": "cfLEHnlX97af"
      },
      "source": [
        "Bài 8: Viết chương trình liệt kê các số Fibonacci nhỏ hơn n là số nguyên tố. N là số nguyên dương được nhập từ bàn phím."
      ]
    },
    {
      "cell_type": "code",
      "metadata": {
        "colab": {
          "base_uri": "https://localhost:8080/"
        },
        "id": "5TpkjNACR140",
        "outputId": "52032474-a160-416b-8244-b5f208105080"
      },
      "source": [
        "num8 = int(input(\"Nhập: \"));\n",
        "list8 = []\n",
        "aa, bb = 0, 1\n",
        "print(\"Fibonacci series:\")\n",
        "while num8 > aa:\n",
        "    print(aa)\n",
        "    res = aa + bb\n",
        "    aa = bb\n",
        "    bb = res\n",
        "    list8.append(res)\n",
        "    \n",
        "print(\"Fibonacci nhỏ hơn\", num8, \"là số nguyên tố là\")\n",
        "for i in list8:\n",
        "  if i > 1:\n",
        "    for j in range(2, i):\n",
        "      if (i % j) == 0:\n",
        "        break\n",
        "    else:\n",
        "        print(i, end=\" \")"
      ],
      "execution_count": 31,
      "outputs": [
        {
          "output_type": "stream",
          "name": "stdout",
          "text": [
            "Nhập: 20\n",
            "Fibonacci series:\n",
            "0\n",
            "1\n",
            "1\n",
            "2\n",
            "3\n",
            "5\n",
            "8\n",
            "13\n",
            "Fibonacci nhỏ hơn 20 là số nguyên tố là\n",
            "2 3 5 13 "
          ]
        }
      ]
    }
  ]
}