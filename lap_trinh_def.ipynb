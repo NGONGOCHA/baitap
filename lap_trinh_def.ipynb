{
  "nbformat": 4,
  "nbformat_minor": 0,
  "metadata": {
    "colab": {
      "name": "lap-trinh-def.ipynb",
      "provenance": [],
      "authorship_tag": "ABX9TyMQKCxssr/mKaVfo6lZL3yl",
      "include_colab_link": true
    },
    "kernelspec": {
      "name": "python3",
      "display_name": "Python 3"
    },
    "language_info": {
      "name": "python"
    }
  },
  "cells": [
    {
      "cell_type": "markdown",
      "metadata": {
        "id": "view-in-github",
        "colab_type": "text"
      },
      "source": [
        "<a href=\"https://colab.research.google.com/github/NGONGOCHA/baitap/blob/main/lap_trinh_def.ipynb\" target=\"_parent\"><img src=\"https://colab.research.google.com/assets/colab-badge.svg\" alt=\"Open In Colab\"/></a>"
      ]
    },
    {
      "cell_type": "markdown",
      "metadata": {
        "id": "OINMxsdCReGC"
      },
      "source": [
        "Bài 1: Hãy xây dựng một hàm thực hiện các yêu cầu sau:\n",
        "- Xuất ra màn hình câu thông báo: “Lập trình Java 2021”\n",
        "- Hàm không có giá trị trả về\n",
        "\n",
        "Từ chương trình chính, gọi thực hiện hàm này."
      ]
    },
    {
      "cell_type": "code",
      "metadata": {
        "id": "6VzsnlsbRfV9",
        "colab": {
          "base_uri": "https://localhost:8080/"
        },
        "outputId": "73f45914-724f-401b-c80c-a995848fdad1"
      },
      "source": [
        "def bai1():\n",
        "  print(\"lập trình java 2021\")\n",
        "bai1()"
      ],
      "execution_count": null,
      "outputs": [
        {
          "output_type": "stream",
          "name": "stdout",
          "text": [
            "lập trình java 2021\n"
          ]
        }
      ]
    },
    {
      "cell_type": "markdown",
      "metadata": {
        "id": "twmSlQmLTcoS"
      },
      "source": [
        "Bài 2: Hãy xây dựng một hàm thực hiện các yêu cầu sau:\n",
        "- Nhận một tham số đầu vào là một chuỗi ký tự (kiểu String)\n",
        "- Xuất ra màn hình nội dung chuỗi được truyền vào từ tham số\n",
        "- Hàm không có giá trị trả về"
      ]
    },
    {
      "cell_type": "code",
      "metadata": {
        "colab": {
          "base_uri": "https://localhost:8080/"
        },
        "id": "QiYLNi36Tb1U",
        "outputId": "49bf071a-c07e-403f-a650-bf9d663a6e74"
      },
      "source": [
        "a = str(input(\"nhập chuỗi: \"))\n",
        "def bai2():\n",
        "  print(a)\n",
        "bai2()"
      ],
      "execution_count": null,
      "outputs": [
        {
          "output_type": "stream",
          "name": "stdout",
          "text": [
            "nhập chuỗi: oai\n",
            "oai\n"
          ]
        }
      ]
    },
    {
      "cell_type": "markdown",
      "metadata": {
        "id": "cuYUjIGiUD70"
      },
      "source": [
        "Bài 3: Hãy viết chương trình thực hiện các yêu cầu sau:\n",
        "- Nhập một số nguyên dương n từ bàn phím (kiểm tra nếu không đạt yêu cầu thì bắt nhập\n",
        "lại)\n",
        "- Nhập một thông điệp từ bàn phím\n",
        "- Gọi thực hiện hàm ở Bài 2 n lần với thông điệp được truyền làm tham số đầu vào của hàm."
      ]
    },
    {
      "cell_type": "code",
      "metadata": {
        "id": "TNSh75ElUGxw",
        "colab": {
          "base_uri": "https://localhost:8080/"
        },
        "outputId": "b192deaa-94e3-4a32-f655-e60c071ae46a"
      },
      "source": [
        "import string\n",
        "while True:\n",
        "  n3 = input(\"nhập n: \")\n",
        "  if n3 in string.digits :\n",
        "    n3 = int(n3)\n",
        "    break\n",
        "chuỗi = input(\"nhập chuỗi: \")\n",
        "def bai3(chuỗi):\n",
        "  for i in range (n3):\n",
        "   print(chuỗi)\n",
        "bai3(chuỗi)"
      ],
      "execution_count": null,
      "outputs": [
        {
          "output_type": "stream",
          "name": "stdout",
          "text": [
            "nhập n: táo\n",
            "nhập n: vịt\n",
            "nhập n: chim\n",
            "nhập n: 6\n",
            "nhập chuỗi: hello\n",
            "hello\n",
            "hello\n",
            "hello\n",
            "hello\n",
            "hello\n",
            "hello\n"
          ]
        }
      ]
    },
    {
      "cell_type": "markdown",
      "metadata": {
        "id": "WOSfsPciYdjB"
      },
      "source": [
        "Bài 4: Hãy viết chương trình thực hiện các yêu cầu sau:\n",
        "- Xây dựng hàm giải phương trình bậc 1 (ax + b = 0), với hệ số a & b được truyền vào qua\n",
        "thông số của hàm.\n",
        "- Chương trình chính nhận các thông số a, b từ bàn phím\n",
        "- Chương trình chính gọi hàm giải phương trình bậc 1 nêu trên"
      ]
    },
    {
      "cell_type": "code",
      "metadata": {
        "id": "STdJz3FCYhjo",
        "colab": {
          "base_uri": "https://localhost:8080/"
        },
        "outputId": "7ccbbd1c-a860-4eef-cf92-f3adf25c4412"
      },
      "source": [
        "def giai_pt_bac1(a,b):\n",
        "  if (a==0):\n",
        "    if (b==0):\n",
        "      ketqua = \"phương trình có vô số nghiệm\"\n",
        "    elif (b!=0):\n",
        "      ketqua = \"phương trình vô nghiệm\"\n",
        "  else:\n",
        "    if (b==0):\n",
        "      ketqua = \"x = 0\"\n",
        "    else:\n",
        "     ketqua = -b/a\n",
        "  return(ketqua)\n",
        "a4 = float(input(\"nhập a: \"))\n",
        "b4 = float(input(\"nhập b: \"))\n",
        "print(giai_pt_bac1(a4, b4))"
      ],
      "execution_count": 13,
      "outputs": [
        {
          "output_type": "stream",
          "name": "stdout",
          "text": [
            "nhập a: 7\n",
            "nhập b: -9\n",
            "1.2857142857142858\n"
          ]
        }
      ]
    },
    {
      "cell_type": "markdown",
      "metadata": {
        "id": "GTdju3qRYxp0"
      },
      "source": [
        "Bài 5: Hãy viết chương trình thực hiện các yêu cầu sau:\n",
        "- Xây dựng hàm giải phương trình bậc (ax2 + bx + c = 0), với hệ số a & b & c được truyền\n",
        "vào qua thông số của hàm.\n",
        "- Chương trình chính nhận các thông số a, b & c từ bàn phím\n",
        "- Chương trình chính gọi hàm giải phương trình bậc 2 nêu trên"
      ]
    },
    {
      "cell_type": "code",
      "metadata": {
        "colab": {
          "base_uri": "https://localhost:8080/"
        },
        "id": "LhlSWvyOY1HQ",
        "outputId": "79aa3382-c07b-471a-fe44-c36b54ca5349"
      },
      "source": [
        "import math\n",
        "def giai_pt_bac2(a,b,c):\n",
        "  if (a==0):\n",
        "    if (b==0) and (c==0):\n",
        "      ketqua2 = \"phương trình có vô số nghiệm\"\n",
        "    elif (b==0) and (c!=0):\n",
        "      ketqua2 = \"phương trình vô nghiệm\"\n",
        "    elif (b!=0) and (c==0):\n",
        "      ketqua2 = \"x = 0\"\n",
        "  else:\n",
        "    if (b!=0) and (c!=0):\n",
        "      delta = b**2 - 4*a*c\n",
        "      if (delta > 0):\n",
        "        x1 = (-b-math.sqrt(delta))/2*a\n",
        "        x2 = (-b+math.sqrt(delta))/2*a\n",
        "        ketqua2 = (\"phương trình có 2 nghiệm phân biệt x1 =\", x1,\"và x2 =\", x2)\n",
        "      elif (delta == 0):\n",
        "        x = x1 = x2 = -b/2*a\n",
        "        ketqua2 = (\"phương trình có nghiệm kép x1 = x2 =\",x)\n",
        "      else:\n",
        "        ketqua2 = \"phương trình vô nghiệm\"\n",
        "  return(ketqua2)\n",
        "a5 = float(input(\"nhập a: \"))\n",
        "b5 = float(input(\"nhập b: \"))\n",
        "c5 = float(input(\"nhập c: \"))\n",
        "print(giai_pt_bac2(a5,b5,c5))"
      ],
      "execution_count": 17,
      "outputs": [
        {
          "output_type": "stream",
          "name": "stdout",
          "text": [
            "nhập a: 1\n",
            "nhập b: -5\n",
            "nhập c: 4\n",
            "('phương trình có 2 nghiệm phân biệt x1 =', 1.0, 'và x2 =', 4.0)\n"
          ]
        }
      ]
    },
    {
      "cell_type": "markdown",
      "metadata": {
        "id": "FMLeiDVqZRlN"
      },
      "source": [
        "Bài 6: Hãy viết chương trình thực hiện các yêu cầu sau:\n",
        "\n",
        "- Cho người dùng lựa chọn giải phương trình bậc 1 hay bậc 2 bằng cách nhập số (1 hay 2)\n",
        "từ bàn phím\n",
        "- Nếu người dùng chọn giải phương trình bậc 1, thì thực hiện các bước như Bài 4\n",
        "- Nếu người dùng chọn giải phương trình bậc 2, thì thực hiện các bước như Bài 5"
      ]
    },
    {
      "cell_type": "code",
      "metadata": {
        "id": "K_bPCHdCY_x_",
        "colab": {
          "base_uri": "https://localhost:8080/"
        },
        "outputId": "3528a356-3951-4482-a5ac-1b2453567eb6"
      },
      "source": [
        "while True:\n",
        "  lua_chon = int(input(\"Chọn 1 hoặc 2: \"))\n",
        "  if lua_chon == 1:\n",
        "    a6 = int(input(\"Nhập hệ số a: \"))\n",
        "    b6 = int(input(\"Nhập hệ số b: \"))\n",
        "    print(giai_pt_bac1(a6, b6))\n",
        "    break\n",
        "  elif lua_chon == 2:\n",
        "    a6 = int(input(\"Nhập hệ số a: \"))\n",
        "    b6 = int(input(\"Nhập hệ số b: \"))\n",
        "    c6 = int(input(\"Nhập hệ số c: \"))\n",
        "    print(giai_pt_bac2(a6, b6, c6))\n",
        "    break\n"
      ],
      "execution_count": 18,
      "outputs": [
        {
          "output_type": "stream",
          "name": "stdout",
          "text": [
            "Chọn 1 hoặc 2: 2\n",
            "Nhập hệ số a: 1\n",
            "Nhập hệ số b: -4\n",
            "Nhập hệ số c: 4\n",
            "('phương trình có nghiệm kép x1 = x2 =', 2.0)\n"
          ]
        }
      ]
    },
    {
      "cell_type": "markdown",
      "metadata": {
        "id": "gqWgGr_KZkXF"
      },
      "source": [
        "Bài 7: Viết chương trình thực hiện các yêu cầu sau:\n",
        "- Thực hiện yêu cầu như bài 6\n",
        "- Sau khi thực hiện xong cho người dùng lựa chọn tiếp tục thực hiện lại hay kết thúc chương\n",
        "trình"
      ]
    },
    {
      "cell_type": "code",
      "metadata": {
        "colab": {
          "base_uri": "https://localhost:8080/"
        },
        "id": "nWHwgrHfqwHL",
        "outputId": "f0af5e87-9a10-4c9e-bc14-5f039f0e84d7"
      },
      "source": [
        "yn = \"Y\"\n",
        "while True:\n",
        "  if yn in (\"Yy\"):\n",
        "    while True:\n",
        "      lua_chon = int(input(\"Chọn 1 hoặc 2: \"))\n",
        "      if lua_chon == 1:\n",
        "        a6 = int(input(\"Nhập hệ số a: \"))\n",
        "        b6 = int(input(\"Nhập hệ số b: \"))\n",
        "        print(giai_pt_bac1(a6, b6))\n",
        "        yn = input(\"Có tiếp tục thực hiện lại hay kết thúc chương trình? (Y/N): \")\n",
        "        break\n",
        "      elif lua_chon == 2:\n",
        "        a6 = int(input(\"Nhập hệ số a: \"))\n",
        "        b6 = int(input(\"Nhập hệ số b: \"))\n",
        "        c6 = int(input(\"Nhập hệ số c: \"))\n",
        "        print(giai_pt_bac2(a6, b6, c6))\n",
        "        yn = input(\"Có tiếp tục thực hiện lại hay kết thúc chương trình? (Y/N): \")\n",
        "        break\n",
        "  elif yn in (\"Nn\"):\n",
        "    break\n",
        "  else:\n",
        "    yn = input(\"Có tiếp tục thực hiện lại hay kết thúc chương trình? (Y/N): \")"
      ],
      "execution_count": 32,
      "outputs": [
        {
          "name": "stdout",
          "output_type": "stream",
          "text": [
            "Chọn 1 hoặc 2: 2\n",
            "Nhập hệ số a: 1\n",
            "Nhập hệ số b: 5\n",
            "Nhập hệ số c: 3\n",
            "('phương trình có 2 nghiệm phân biệt x1 =', -4.302775637731995, 'và x2 =', -0.6972243622680054)\n",
            "Có tiếp tục thực hiện lại hay kết thúc chương trình? (Y/N): y\n",
            "Chọn 1 hoặc 2: 1\n",
            "Nhập hệ số a: -8\n",
            "Nhập hệ số b: 3\n",
            "0.375\n",
            "Có tiếp tục thực hiện lại hay kết thúc chương trình? (Y/N): j\n",
            "Có tiếp tục thực hiện lại hay kết thúc chương trình? (Y/N): n\n"
          ]
        }
      ]
    }
  ]
}