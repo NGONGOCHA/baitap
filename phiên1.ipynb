{
  "nbformat": 4,
  "nbformat_minor": 0,
  "metadata": {
    "colab": {
      "name": "phiên1.ipynb",
      "provenance": [],
      "authorship_tag": "ABX9TyORagRy4t6ikx5Fh3q9+1g7",
      "include_colab_link": true
    },
    "kernelspec": {
      "name": "python3",
      "display_name": "Python 3"
    },
    "language_info": {
      "name": "python"
    }
  },
  "cells": [
    {
      "cell_type": "markdown",
      "metadata": {
        "id": "view-in-github",
        "colab_type": "text"
      },
      "source": [
        "<a href=\"https://colab.research.google.com/github/NGONGOCHA/baitap/blob/main/phi%C3%AAn1.ipynb\" target=\"_parent\"><img src=\"https://colab.research.google.com/assets/colab-badge.svg\" alt=\"Open In Colab\"/></a>"
      ]
    },
    {
      "cell_type": "markdown",
      "metadata": {
        "id": "I7ByiMKnCCg3"
      },
      "source": [
        "bài 1"
      ]
    },
    {
      "cell_type": "code",
      "metadata": {
        "colab": {
          "base_uri": "https://localhost:8080/"
        },
        "id": "YUO8i5obCHKk",
        "outputId": "15e7ab8e-e9e6-4a0d-e85d-4edf00ec7f29"
      },
      "source": [
        "a = float(input(\"nhập một số a: \"))\n",
        "if a > 0:\n",
        "  print(a,\"là một số dương\")\n",
        "elif a < 0:\n",
        "  print(a, \"là một số âm\")\n",
        "else: \n",
        "  print(\"zero\")"
      ],
      "execution_count": 9,
      "outputs": [
        {
          "output_type": "stream",
          "name": "stdout",
          "text": [
            "nhập một số a: 0\n",
            "zero\n"
          ]
        }
      ]
    },
    {
      "cell_type": "markdown",
      "metadata": {
        "id": "K18ydmCADnjC"
      },
      "source": [
        "bài 2\n"
      ]
    },
    {
      "cell_type": "code",
      "metadata": {
        "colab": {
          "base_uri": "https://localhost:8080/"
        },
        "id": "4BGszSj1Doy1",
        "outputId": "2f55ce0a-8c75-4e4b-a840-c4bf47827af1"
      },
      "source": [
        "number1 = float(input(\"nhập number1: \"))\n",
        "number2 = float(input(\"nhập number2: \"))\n",
        "number3 = float(input(\"nhập number3: \"))\n",
        "\n",
        "if (number1 >= number2) and (number1 >= number3):\n",
        "   largest = number1\n",
        "elif (number2 >= number1) and (number2 >= number3):\n",
        "   largest = number2\n",
        "else:\n",
        "   largest = number3\n",
        "   print(\"số lớn nhất là:\", largest)"
      ],
      "execution_count": 1,
      "outputs": [
        {
          "output_type": "stream",
          "name": "stdout",
          "text": [
            "nhập number1: 25\n",
            "nhập number2: 78\n",
            "nhập number3: 87\n",
            "số lớn nhất là: 87.0\n"
          ]
        }
      ]
    },
    {
      "cell_type": "markdown",
      "metadata": {
        "id": "YfJp1HmUF_6N"
      },
      "source": [
        "bài 3\n"
      ]
    },
    {
      "cell_type": "code",
      "metadata": {
        "colab": {
          "base_uri": "https://localhost:8080/"
        },
        "id": "KaIKiLTuGBEE",
        "outputId": "5990a7ee-9ca5-4c8d-d802-d55c9969119f"
      },
      "source": [
        "so = float(input(\"nhập so: \"))\n",
        "if so > 1000000:\n",
        "   print(\"Positive number large\")\n",
        "elif 0 < so < 1:\n",
        "   print(\"small\")\n",
        "elif so == 0:\n",
        "   print(\"Zero\")\n",
        "elif (1 < so) and (so < 1000000):\n",
        "  print(\"positive\")\n",
        "else:\n",
        "   print(\"Negative number\")"
      ],
      "execution_count": 7,
      "outputs": [
        {
          "output_type": "stream",
          "name": "stdout",
          "text": [
            "nhập so: -57\n",
            "Negative number\n"
          ]
        }
      ]
    },
    {
      "cell_type": "markdown",
      "metadata": {
        "id": "Umbw2Ut0IdHt"
      },
      "source": [
        "bài 4\n"
      ]
    },
    {
      "cell_type": "code",
      "metadata": {
        "colab": {
          "base_uri": "https://localhost:8080/"
        },
        "id": "SpY9CALzIemE",
        "outputId": "716d4a7c-e932-472a-ef80-de253e8d2426"
      },
      "source": [
        "weekday = int(input(\"Nhập ngày: \"))\n",
        "weekday = (weekday%7) + 1\n",
        "if weekday == 1:\n",
        "    print(\"Monday\");\n",
        "elif weekday == 2:\n",
        "    print(\"Tuesday\")\n",
        "elif weekday == 3:\n",
        "    print(\"Wednesday\")\n",
        "elif weekday == 4:\n",
        "    print(\"Thursday\")\n",
        "elif weekday == 5:\n",
        "    print(\"Friday\")\n",
        "elif weekday == 6:\n",
        "    print(\"Saturday\")\n",
        "elif weekday == 7:\n",
        "    print(\"Sunday\")"
      ],
      "execution_count": 8,
      "outputs": [
        {
          "output_type": "stream",
          "name": "stdout",
          "text": [
            "Nhập ngày: 90\n",
            "Sunday\n"
          ]
        }
      ]
    },
    {
      "cell_type": "markdown",
      "metadata": {
        "id": "heYI5nzEKaQO"
      },
      "source": [
        "bài 5"
      ]
    },
    {
      "cell_type": "code",
      "metadata": {
        "colab": {
          "base_uri": "https://localhost:8080/"
        },
        "id": "kwr-ABkMKbOn",
        "outputId": "43751d8e-89a2-4683-f0b2-7fd18b628613"
      },
      "source": [
        "so1 = float(input(\"nhập so1: \"))\n",
        "so2 = float(input(\"nhập so2: \"))\n",
        "if (so1 == so2):\n",
        "   print(\"two number is same\")\n",
        "else:\n",
        "   print(\"two number is different\")"
      ],
      "execution_count": null,
      "outputs": [
        {
          "output_type": "stream",
          "name": "stdout",
          "text": [
            "nhập so1: 25.586\n",
            "nhập so2: 25.589\n",
            "two number is different\n"
          ]
        }
      ]
    }
  ]
}