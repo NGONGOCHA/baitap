{
  "nbformat": 4,
  "nbformat_minor": 0,
  "metadata": {
    "colab": {
      "name": "bt sắp xếp.ipynb",
      "provenance": [],
      "collapsed_sections": [],
      "authorship_tag": "ABX9TyNKMrQbRPmwheSSAxNk4cpE",
      "include_colab_link": true
    },
    "kernelspec": {
      "name": "python3",
      "display_name": "Python 3"
    },
    "language_info": {
      "name": "python"
    }
  },
  "cells": [
    {
      "cell_type": "markdown",
      "metadata": {
        "id": "view-in-github",
        "colab_type": "text"
      },
      "source": [
        "<a href=\"https://colab.research.google.com/github/NGONGOCHA/baitap/blob/main/bt_s%E1%BA%AFp_x%E1%BA%BFp.ipynb\" target=\"_parent\"><img src=\"https://colab.research.google.com/assets/colab-badge.svg\" alt=\"Open In Colab\"/></a>"
      ]
    },
    {
      "cell_type": "markdown",
      "metadata": {
        "id": "WCWvYJPNYp2E"
      },
      "source": [
        "Bài 1: Viết chương trình nhập vào từ bàn phím một danh sách gồm 10 số nguyên và thực hiện các\n",
        "yêu cầu sau:\n",
        "- Sắp xếp danh sách trên theo chiều tăng dần\n",
        "- In kết quả ra màn hình"
      ]
    },
    {
      "cell_type": "code",
      "metadata": {
        "colab": {
          "base_uri": "https://localhost:8080/"
        },
        "id": "3Iiwm_PwYihv",
        "outputId": "285b1d66-1269-4f47-e7a4-6bc4beeaf8e7"
      },
      "source": [
        "ds1 = []\n",
        "n = 0\n",
        "while n<10:\n",
        "  ds1.append(int(input(\"nhập số nguyên: \")))\n",
        "  n+=1\n",
        "sorted(ds1)"
      ],
      "execution_count": 1,
      "outputs": [
        {
          "name": "stdout",
          "output_type": "stream",
          "text": [
            "nhập số nguyên: 4\n",
            "nhập số nguyên: 67\n",
            "nhập số nguyên: -3\n",
            "nhập số nguyên: -56\n",
            "nhập số nguyên: 37\n",
            "nhập số nguyên: 94\n",
            "nhập số nguyên: -100\n",
            "nhập số nguyên: 478\n",
            "nhập số nguyên: 2\n",
            "nhập số nguyên: 16\n"
          ]
        },
        {
          "output_type": "execute_result",
          "data": {
            "text/plain": [
              "[-100, -56, -3, 2, 4, 16, 37, 67, 94, 478]"
            ]
          },
          "metadata": {},
          "execution_count": 1
        }
      ]
    },
    {
      "cell_type": "markdown",
      "metadata": {
        "id": "GrXy6-7DYnQl"
      },
      "source": [
        "Bài 2: Viết chương trình thực hiện các yêu cầu sau:\n",
        "- Xây dựng hàm có tên nhap_danh_sach_so_nguyen(n), trong đó:\n",
        "\n",
        "o Tham số đầu vào n là số phần tử của danh sách;\n",
        "\n",
        "o Hàm này trả về một danh sách gồm n số nguyên được nhập vào từ bàn phím\n",
        "- Xây dựng hàm có tên sap_xep_danh_sach(x), trong đó:\n",
        "\n",
        "o Tham số đầu vào x là một danh sách các số nguyên\n",
        "\n",
        "o Hàm này trả về một danh sách các số nguyên được sắp xếp theo chiều tăng dần\n",
        "- Chương trình chính (__main__) gọi thực thi 2 hàm nêu trên và in kết quả sắp xếp ra màn\n",
        "hình."
      ]
    },
    {
      "cell_type": "code",
      "metadata": {
        "colab": {
          "base_uri": "https://localhost:8080/"
        },
        "id": "0jbPH3BM2olN",
        "outputId": "a3cc5ab8-83f9-4b09-9c4f-3649e37e375a"
      },
      "source": [
        "def nhap_danh_sach_so_nguyen(n):\n",
        "  ds2 = [] \n",
        "  for i in range (n):\n",
        "    ds2.append(int(input(\"nhập số nguyên: \")))\n",
        "  return ds2 \n",
        "\n",
        "def sap_xep_danh_sach(x): \n",
        "  x = sorted(x)\n",
        "  return x\n",
        "\n",
        "n2 = int(input(\"nhập n: \"))\n",
        "sap_xep_danh_sach(nhap_danh_sach_so_nguyen(n2))"
      ],
      "execution_count": 26,
      "outputs": [
        {
          "name": "stdout",
          "output_type": "stream",
          "text": [
            "nhập n: 6\n",
            "nhập số nguyên: 8\n",
            "nhập số nguyên: -9\n",
            "nhập số nguyên: 34\n",
            "nhập số nguyên: -98\n",
            "nhập số nguyên: 76\n",
            "nhập số nguyên: 5\n"
          ]
        },
        {
          "output_type": "execute_result",
          "data": {
            "text/plain": [
              "[-98, -9, 5, 8, 34, 76]"
            ]
          },
          "metadata": {},
          "execution_count": 26
        }
      ]
    },
    {
      "cell_type": "markdown",
      "metadata": {
        "id": "aRSAEHSdAB76"
      },
      "source": [
        "Bài 3: Viết chương trình nhập vào từ bàn phím một danh sách các số thực, theo các yeu cầu sau:\n",
        "- Sau khi nhập mỗi số thực từ bàn phím, chương trình hỏi người dùng có muốn tiếp tục nhập\n",
        "không. Nếu người dùng gõ ký tự n hoặc N thì kết thúc quá trình nhập;\n",
        "- Sắp xếp danh sách các số thực tren theo chiều giảm dần;\n",
        "- In kết quả ra màn hình."
      ]
    },
    {
      "cell_type": "code",
      "metadata": {
        "colab": {
          "base_uri": "https://localhost:8080/"
        },
        "id": "k9MdfwbDAGc6",
        "outputId": "1e57e513-dcc7-419e-e5a9-77ee297d3983"
      },
      "source": [
        "check = \"\"\n",
        "ds3 = []\n",
        "while True:\n",
        "  ds3.append(float(input(\"nhập số thực: \")))\n",
        "  check = input(\"có muốn tiếp tục không? N/n: \")\n",
        "  if check in \"Nn\":\n",
        "    break\n",
        "sorted(ds3, reverse=True)"
      ],
      "execution_count": 13,
      "outputs": [
        {
          "name": "stdout",
          "output_type": "stream",
          "text": [
            "nhập số thực: 4\n",
            "có muốn tiếp tục không? N/n: ư\n",
            "nhập số thực: 3\n",
            "có muốn tiếp tục không? N/n: r\n",
            "nhập số thực: 9.5\n",
            "có muốn tiếp tục không? N/n: n\n"
          ]
        },
        {
          "output_type": "execute_result",
          "data": {
            "text/plain": [
              "[9.5, 4.0, 3.0]"
            ]
          },
          "metadata": {},
          "execution_count": 13
        }
      ]
    },
    {
      "cell_type": "markdown",
      "metadata": {
        "id": "6kSkqD3rDk5Z"
      },
      "source": [
        "Bài 4: Viết chương trình thực hiện các yêu cầu sau:\n",
        "- Xây dựng hàm nhap_danh_sach_so_thuc( ) thỏa mãn các yêu cầu sau:\n",
        "\n",
        "o Sau khi nhập mỗi số thực từ bàn phím, chương trình hỏi người dùng có muốn tiếptục nhập không. Nếu người dùng gõ ký tự n hoặc N thì kết thúc quá trình nhập;\n",
        "\n",
        "o Hàm trả về danh sách các số thực đã nhập.\n",
        "- Xây dựng hàm sap_xep_danh_sach_so_thuc(x), với:\n",
        "\n",
        "o Tham số đầu vào x là một danh sách các số thực;\n",
        "\n",
        "o Hàm này trả về một danh sách các số thực được sắp xếp theo chiều giảm dần"
      ]
    },
    {
      "cell_type": "code",
      "metadata": {
        "colab": {
          "base_uri": "https://localhost:8080/"
        },
        "id": "pH_cDb-1DvXt",
        "outputId": "8e1c2876-4aae-4a2f-e456-21fc2fc323f9"
      },
      "source": [
        "def nhap_danh_sach_so_thuc():\n",
        "  check = \"\"\n",
        "  ds4 = []\n",
        "  while True:\n",
        "    ds4.append(float(input(\"nhập số thực: \")))\n",
        "    check = input(\"có muốn tiếp tục không? N/n: \")\n",
        "    if check in \"Nn\":\n",
        "      break\n",
        "  return ds4\n",
        "  \n",
        "def sap_xep_danh_sach_so_thuc(x):\n",
        "  x = sorted(x, reverse=True)\n",
        "  return x\n",
        "\n",
        "sap_xep_danh_sach_so_thuc(nhap_danh_sach_so_thuc())"
      ],
      "execution_count": 15,
      "outputs": [
        {
          "name": "stdout",
          "output_type": "stream",
          "text": [
            "nhập số thực: 3.5\n",
            "có muốn tiếp tục không? N/n: s\n",
            "nhập số thực: 3.6\n",
            "có muốn tiếp tục không? N/n: g\n",
            "nhập số thực: 9.4\n",
            "có muốn tiếp tục không? N/n: g\n",
            "nhập số thực: 4.5\n",
            "có muốn tiếp tục không? N/n: n\n"
          ]
        },
        {
          "output_type": "execute_result",
          "data": {
            "text/plain": [
              "[9.4, 4.5, 3.6, 3.5]"
            ]
          },
          "metadata": {},
          "execution_count": 15
        }
      ]
    },
    {
      "cell_type": "markdown",
      "metadata": {
        "id": "7iIH39oCFIRi"
      },
      "source": [
        "Bài 5: Viết chương trình thực hiện các yêu cầu sau:\n",
        "- Sinh ngẫu nhiên 1 danh sách số nguyên gồm n phần tử. \n",
        "Trong đó, n được nhập vào từ bàn phím và số nguyên sinh ra nằm trong khoảng từ 0 đến max_value. Giá trị max_value được nhập vào từ bàn phím;\n",
        "\n",
        "- Hỏi người dùng lựa chọn sắp xếp danh sách trên theo chiều tăng dần hay giảm dần và sắp xếp danh sách theo lựa chọn của người dùng;\n",
        "\n",
        "- In kết quả sắp xếp ra màn hình."
      ]
    },
    {
      "cell_type": "code",
      "metadata": {
        "colab": {
          "base_uri": "https://localhost:8080/"
        },
        "id": "m_TxXIweFU5a",
        "outputId": "e32727c6-d6f3-46be-dc50-260058aa7df8"
      },
      "source": [
        "import random\n",
        "ds5 = []\n",
        "n5 = int(input(\"Số phần tử: \"))\n",
        "check5 = 0\n",
        "max_value = int(input(\"Nhap gia tri max_value: \"))\n",
        "for i in range(n5):\n",
        "  ds5.append(random.randint(0, max_value))\n",
        "while True:\n",
        "  check5 = int(input(\"Lựa chọn (1) tăng dần, (2) giảm dần: \"))\n",
        "  if check5 == 1: \n",
        "    print(sap_xep_danh_sach(ds5))\n",
        "    break\n",
        "  elif check5 == 2:\n",
        "    print(sap_xep_danh_sach_so_thuc(ds5))\n",
        "    break"
      ],
      "execution_count": 23,
      "outputs": [
        {
          "output_type": "stream",
          "name": "stdout",
          "text": [
            "Số phần tử: 5\n",
            "Nhap gia tri max_value: 30\n",
            "Lựa chọn (1) tăng dần, (2) giảm dần: 5\n",
            "Lựa chọn (1) tăng dần, (2) giảm dần: 4\n",
            "Lựa chọn (1) tăng dần, (2) giảm dần: 67\n",
            "Lựa chọn (1) tăng dần, (2) giảm dần: 2\n",
            "[20, 15, 11, 6, 1]\n"
          ]
        }
      ]
    },
    {
      "cell_type": "markdown",
      "metadata": {
        "id": "wffIopsyHS-E"
      },
      "source": [
        "Bài 6: Viết chương trình thực hiện các yêu cầu sau:\n",
        "- Xây dựng hàm sinh_ngau_nhien_danh_sach_so_nguyen( ), thực hiện các thao tác sau:\n",
        "\n",
        "o Sinh ngẫu nhiên 1 danh sách số nguyên gồm n phần tử;\n",
        "\n",
        "o Trong đó, n được nhập vào từ bàn phím và số nguyên sinh ra nằm trong khoảng từ 0 đến max_value;\n",
        "\n",
        "o Giá trị max_value được nhập vào từ bàn phím;\n",
        "\n",
        "o Hàm này trả về danh sách các số nguyên được sinh ngẫu nhiên ở trên.\n",
        "\n",
        "- Xây dựng hàm sap_xep_giam_dan(x), trong đó:\n",
        "\n",
        "o Tham số đầu vào x là một danh sách các số nguyên;\n",
        "\n",
        "o Hàm này trả về một danh sách các số nguyên được sắp xếp theo chiều giảm dần.\n",
        "\n",
        "- Xây dựng hàm sap_xep_tang_dan(x), trong đó:\n",
        "\n",
        "o Tham số đầu vào x là một danh sách các số nguyên;\n",
        "\n",
        "o Hàm này trả về một danh sách các số nguyên được sắp xếp theo chiều tăng dần.\n",
        "\n",
        "- Chương trình chính (__main__) gọi thực hiện các hàm trên và in kết quả ra màn hình."
      ]
    },
    {
      "cell_type": "code",
      "metadata": {
        "colab": {
          "base_uri": "https://localhost:8080/"
        },
        "id": "3AiNaW4WHhFh",
        "outputId": "e8bada4e-0cae-46af-d610-a8f158c1e08d"
      },
      "source": [
        "def sinh_ngau_nhien_danh_sach_so_nguyen(n, max_value):\n",
        "  ds6 = []\n",
        "  check6 = 0\n",
        "  for i in range(n):\n",
        "    ds6.append(random.randint(0, max_value))\n",
        "  return ds6\n",
        "\n",
        "def sap_xep_giam_dan(x):\n",
        "  x = sap_xep_danh_sach_so_thuc(x)\n",
        "  return x\n",
        "\n",
        "def sap_xep_tang_dan(x):\n",
        "  x = sap_xep_danh_sach(x)\n",
        "  return x\n",
        "\n",
        "n6 = int(input(\"Số phần tử: \"))\n",
        "max_value = int(input(\"Nhap gia tri max_value: \"))\n",
        "print(sap_xep_giam_dan(sinh_ngau_nhien_danh_sach_so_nguyen(n6, max_value)))\n",
        "sap_xep_tang_dan(sinh_ngau_nhien_danh_sach_so_nguyen(n6, max_value))"
      ],
      "execution_count": 25,
      "outputs": [
        {
          "output_type": "stream",
          "name": "stdout",
          "text": [
            "Số phần tử: 7\n",
            "Nhap gia tri max_value: 90\n",
            "[79, 59, 53, 45, 32, 26, 13]\n"
          ]
        },
        {
          "output_type": "execute_result",
          "data": {
            "text/plain": [
              "[20, 23, 25, 29, 44, 48, 55]"
            ]
          },
          "metadata": {},
          "execution_count": 25
        }
      ]
    }
  ]
}